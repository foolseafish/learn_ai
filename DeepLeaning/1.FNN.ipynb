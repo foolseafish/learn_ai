{
 "cells": [
  {
   "cell_type": "markdown",
   "metadata": {},
   "source": [
    "\n",
    "\n",
    "神经网络模仿人类神经系统，神经元，神经元之间的介质传递。神经网络的关键概念：神经元（包含权重、偏置）、层（一层包含多个神经元， 除输入、输出层外，其他称为隐藏层）、激活函数、前向传播、反向传播、epoch（一个前向、反向传播过程）、损失函数（计算一次正向传播与目标值之间的损失值，损失值越大表示差别越大）、优化器（一种降低损失函数结果的优化方法， 常见的有梯度下降（SGD、Momentum‌、NAG）、自适应学习率优化器（Adagrad‌、RMSprop‌、Adam‌、AdamW‌）、其他优化器（Muon‌）。\n",
    "\n",
    "神经元包含对刺激（输入）的感知能力，产生应答（输出），其一般表示为f(x) = w(对刺激的感知权重)x+b(偏置)。\n",
    "激活函数是一个非线性的函数。为什么需要是线性的，因为假设激活函数是线性的，那对于神经元表示做激活函数可以得到f(x)=w2(w1x+b1)+b2 = w2w1x+w2b1+b2，结果表示依然线性，那多个线性层迭代的结果就是线性的（wx+b），整个神经网络就是一个函数，没有学习的能力。\n",
    "神经网络单次训练经过神经元和激活函数到下一个神经元最后到输出的过程即为前向传播。降低损失函数优化神经元权重和偏置就是一个反向传播过程（如果没有反向传播，神经网络就没有学习能力）\n",
    "\n",
    "FNN，前馈神经网络。是一种基础的神经网络。下面做一个简易实现："
   ]
  },
  {
   "cell_type": "code",
   "execution_count": 3,
   "metadata": {},
   "outputs": [
    {
     "name": "stdout",
     "output_type": "stream",
     "text": [
      "Epoch [10/100], Loss: 0.0862\n",
      "Epoch [20/100], Loss: 0.0153\n",
      "Epoch [30/100], Loss: 0.0010\n",
      "Epoch [40/100], Loss: 0.0015\n",
      "Epoch [50/100], Loss: 0.0012\n",
      "Epoch [60/100], Loss: 0.0004\n",
      "Epoch [70/100], Loss: 0.0001\n",
      "Epoch [80/100], Loss: 0.0000\n",
      "Epoch [90/100], Loss: 0.0000\n",
      "Epoch [100/100], Loss: 0.0000\n"
     ]
    }
   ],
   "source": [
    "import torch\n",
    "import torch.nn as nn\n",
    "import torch.optim as optim\n",
    "\n",
    "class SimpleNN(nn.Module):\n",
    "    def __init__(self, input_size, hidden_size, output_size):\n",
    "        super(SimpleNN, self).__init__()\n",
    "        # 输入层到隐藏层\n",
    "        self.layer1 = nn.Linear(input_size, hidden_size)\n",
    "        # 隐藏层到输出层\n",
    "        self.layer2 = nn.Linear(hidden_size, output_size)\n",
    "        # 激活函数 ReLU\n",
    "        self.activation = nn.ReLU()\n",
    "    # 前向传播\n",
    "    def forward(self, x):\n",
    "        # 输入层到隐藏层\n",
    "        x = self.activation(self.layer1(x))\n",
    "        # 隐藏层到输出层\n",
    "        x = self.layer2(x)\n",
    "        return x\n",
    "\n",
    "# 创建模型实例\n",
    "model = SimpleNN(input_size=10, hidden_size=20, output_size=2)\n",
    "\n",
    "# 定义损失函数和优化器\n",
    "criterion = nn.MSELoss()\n",
    "optimizer = optim.Adam(model.parameters(), lr=0.01)\n",
    "# 输入数据\n",
    "inputs = torch.randn(10)\n",
    "# 目标数据\n",
    "targets = torch.randn(2)\n",
    "\n",
    "# 训练循环（这里省略了数据加载部分）\n",
    "for epoch in range(100):\n",
    "    # 前向传播\n",
    "    outputs = model(inputs)\n",
    "    # 计算损失\n",
    "    loss = criterion(outputs, targets)\n",
    "    # 梯度清零\n",
    "    optimizer.zero_grad()\n",
    "    # 反向传播\n",
    "    loss.backward()\n",
    "    # 更新参数\n",
    "    optimizer.step()\n",
    "\n",
    "    if (epoch + 1) % 10 == 0:\n",
    "        print(f'Epoch [{epoch+1}/100], Loss: {loss.item():.4f}')"
   ]
  },
  {
   "cell_type": "markdown",
   "metadata": {},
   "source": []
  }
 ],
 "metadata": {
  "kernelspec": {
   "display_name": "Python 3",
   "language": "python",
   "name": "python3"
  },
  "language_info": {
   "codemirror_mode": {
    "name": "ipython",
    "version": 3
   },
   "file_extension": ".py",
   "mimetype": "text/x-python",
   "name": "python",
   "nbconvert_exporter": "python",
   "pygments_lexer": "ipython3",
   "version": "3.10.6"
  }
 },
 "nbformat": 4,
 "nbformat_minor": 2
}
