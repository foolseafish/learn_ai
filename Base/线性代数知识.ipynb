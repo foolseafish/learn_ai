{
 "cells": [
  {
   "cell_type": "markdown",
   "id": "533b1ec4",
   "metadata": {},
   "source": [
    "机器学习中涉及大量数据计算，一般会用多维矩阵对数据进行表示，需要了解一些基础的线性代数知识"
   ]
  },
  {
   "cell_type": "code",
   "execution_count": 9,
   "id": "8f7a71b2",
   "metadata": {},
   "outputs": [
    {
     "name": "stdout",
     "output_type": "stream",
     "text": [
      "[[30 36]\n",
      " [66 81]]\n",
      "[[30 36]\n",
      " [66 81]]\n"
     ]
    }
   ],
   "source": [
    "import numpy as np\n",
    "#矩阵内积,内积需要保证a的列数和b的行数相同\n",
    "a = [[1,2,3],[4,5,6]]\n",
    "b = [[1,2],[4,5], [7,8]]\n",
    "#用基础的for循环实现\n",
    "c = np.zeros((len(a), len(b[0])), dtype=np.int32)\n",
    "# ....此处省略异常处理\n",
    "for i in range(len(a)):\n",
    "    for j in range(len(b[0])):\n",
    "        for k in range(len(b)):\n",
    "            c[i][j] += a[i][k] * b[k][j]\n",
    "print(c)\n",
    "\n",
    "# 使用numpy的dot函数实现\n",
    "c = np.dot(a,b)\n",
    "print(c)\n"
   ]
  },
  {
   "cell_type": "code",
   "execution_count": null,
   "id": "c43c888d",
   "metadata": {},
   "outputs": [
    {
     "name": "stdout",
     "output_type": "stream",
     "text": [
      "[[ 5  6  7  8]\n",
      " [10 12 14 16]\n",
      " [15 18 21 24]\n",
      " [20 24 28 32]]\n",
      "[[ 5  6  7  8]\n",
      " [10 12 14 16]\n",
      " [15 18 21 24]\n",
      " [20 24 28 32]]\n"
     ]
    }
   ],
   "source": [
    "import numpy as np\n",
    "\n",
    "#矩阵外积\n",
    "# a = [[1,2,3],[4,5,6]]\n",
    "# b = [[1,2],[4,5], [7,8]]\n",
    "\n",
    "a = np.array([[1, 2], [3, 4]])\n",
    "b = np.array([[5, 6], [7, 8]])\n",
    "#用基础的for循环实现外积\n",
    "a_f = np.ravel(a)\n",
    "b_f = np.ravel(b)\n",
    "c = np.zeros((len(a_f), len(b_f)), dtype=np.int32)\n",
    "\n",
    "for i in range(len(a_f)):\n",
    "    for j in range(len(b_f)):\n",
    "        c[i][j] += a_f[i] * b_f[j]\n",
    "print(c)\n",
    "\n",
    "#使用numpy的outer函数实现\n",
    "c = np.outer(a,b)\n",
    "print(c)\n",
    "\n"
   ]
  }
 ],
 "metadata": {
  "kernelspec": {
   "display_name": "Python 3",
   "language": "python",
   "name": "python3"
  },
  "language_info": {
   "codemirror_mode": {
    "name": "ipython",
    "version": 3
   },
   "file_extension": ".py",
   "mimetype": "text/x-python",
   "name": "python",
   "nbconvert_exporter": "python",
   "pygments_lexer": "ipython3",
   "version": "3.10.6"
  }
 },
 "nbformat": 4,
 "nbformat_minor": 5
}
